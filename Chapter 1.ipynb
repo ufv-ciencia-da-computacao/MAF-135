{
 "cells": [
  {
   "cell_type": "code",
   "execution_count": 1,
   "metadata": {},
   "outputs": [],
   "source": [
    "import numpy as np"
   ]
  },
  {
   "cell_type": "markdown",
   "metadata": {},
   "source": [
    "### Exercício 1.1.11\n",
    "##### Sendo A uma matriz, calcule alguns membros da sequência ${A}$, ${A}^{2}$ , ${...}$ , ${A}^{k}$\n",
    "\n",
    "- (a) $\n",
    "\\begin{gather}\n",
    "    A =\n",
    "    \\begin{bmatrix}\n",
    "        1 & 1/2 \\\\\n",
    "        0 & 1/3 \n",
    "    \\end{bmatrix}\n",
    "\\end{gather}\n",
    "$ \n",
    "\n",
    "- (b) $\n",
    "\\begin{gather}\n",
    "    B =\n",
    "    \\begin{bmatrix}\n",
    "        1/2 & 1/3 \\\\\n",
    "        0 & -1/5 \n",
    "    \\end{bmatrix}\n",
    "\\end{gather}\n",
    "$"
   ]
  },
  {
   "cell_type": "code",
   "execution_count": 140,
   "metadata": {},
   "outputs": [
    {
     "data": {
      "text/plain": [
       "array([[1.  , 0.75],\n",
       "       [0.  , 0.  ]])"
      ]
     },
     "execution_count": 140,
     "metadata": {},
     "output_type": "execute_result"
    }
   ],
   "source": [
    "A = np.array([[1, 1./2], \n",
    "             [0, 1./3]])\n",
    "A_exponentiated = np.linalg.matrix_power(A, 1000)\n",
    "A_exponentiated"
   ]
  },
  {
   "cell_type": "code",
   "execution_count": 146,
   "metadata": {},
   "outputs": [
    {
     "data": {
      "text/plain": [
       "array([[0., 0.],\n",
       "       [0., 0.]])"
      ]
     },
     "execution_count": 146,
     "metadata": {},
     "output_type": "execute_result"
    }
   ],
   "source": [
    "B = np.array([[1./2, 1/3], \n",
    "             [0, -1./5]])\n",
    "B_exponentiated = np.linalg.matrix_power(B, 2000)\n",
    "B_exponentiated"
   ]
  },
  {
   "cell_type": "markdown",
   "metadata": {},
   "source": [
    "### Exercício 1.1.12\n",
    "###### Calcule as potências das matrizes dadas a seguir e encontre experimentalmente (por tentativa!) o menor inteiro k > 1 tal que\n",
    "\n",
    "- (a) \n",
    "$\n",
    "\\begin{gather}\n",
    "    {A}^{k} = I_3, {A} =\n",
    "    \\begin{bmatrix}\n",
    "        0 & 0 & 1 \\\\\n",
    "        1 & 0 & 0 \\\\\n",
    "        0 & 1 & 0\n",
    "    \\end{bmatrix}\n",
    "\\end{gather}\n",
    "$ \n",
    "\n",
    "- (b) \n",
    "$\n",
    "\\begin{gather}\n",
    "    {A}^{k} = I_4, {A} =\n",
    "    \\begin{bmatrix}\n",
    "        0 & 1 & 0 & 0 \\\\\n",
    "        -1 & 0 & 0 & 0 \\\\\n",
    "        0 & 0 & 0 & 1 \\\\\n",
    "        0 & 0 & 1 & 0\n",
    "    \\end{bmatrix}\n",
    "\\end{gather}\n",
    "$\n",
    "\n",
    "- (c)\n",
    "$\n",
    "\\begin{gather}\n",
    "    {A}^{k} = {0}, {A} =\n",
    "    \\begin{bmatrix}\n",
    "        0 & 1 & 0 & 0 \\\\\n",
    "        0 & 0 & 1 & 0 \\\\\n",
    "        0 & 0 & 0 & 1 \\\\\n",
    "        0 & 0 & 0 & 0\n",
    "    \\end{bmatrix}\n",
    "\\end{gather}\n",
    "$"
   ]
  },
  {
   "cell_type": "code",
   "execution_count": 41,
   "metadata": {},
   "outputs": [],
   "source": [
    "# 1.1.12 (a)\n",
    "A = np.array([[0, 0, 1],\n",
    "              [1, 0, 0],\n",
    "             [0, 1, 0]])"
   ]
  },
  {
   "cell_type": "code",
   "execution_count": 49,
   "metadata": {},
   "outputs": [
    {
     "data": {
      "text/plain": [
       "array([[1, 0, 0],\n",
       "       [0, 1, 0],\n",
       "       [0, 0, 1]])"
      ]
     },
     "execution_count": 49,
     "metadata": {},
     "output_type": "execute_result"
    }
   ],
   "source": [
    "A_exponentiated = np.linalg.matrix_power(A, 3)\n",
    "A_exponentiated"
   ]
  },
  {
   "cell_type": "code",
   "execution_count": 50,
   "metadata": {},
   "outputs": [],
   "source": [
    "# 1.1.12 (b)\n",
    "A = np.array([[0, 1, 0, 0],\n",
    "              [-1, 0, 0, 0],\n",
    "             [0, 0, 0, 1],\n",
    "             [0, 0, 1, 0]])"
   ]
  },
  {
   "cell_type": "code",
   "execution_count": 53,
   "metadata": {},
   "outputs": [
    {
     "data": {
      "text/plain": [
       "array([[1, 0, 0, 0],\n",
       "       [0, 1, 0, 0],\n",
       "       [0, 0, 1, 0],\n",
       "       [0, 0, 0, 1]])"
      ]
     },
     "execution_count": 53,
     "metadata": {},
     "output_type": "execute_result"
    }
   ],
   "source": [
    "A_exponentiated = np.linalg.matrix_power(A, 4)\n",
    "A_exponentiated"
   ]
  },
  {
   "cell_type": "code",
   "execution_count": 68,
   "metadata": {},
   "outputs": [],
   "source": [
    "# 1.1.12 (c)\n",
    "A = np.array([[0, 1, 0, 0],\n",
    "              [0, 0, 1, 0],\n",
    "             [0, 0, 0, 1],\n",
    "             [0, 0, 0, 0]])"
   ]
  },
  {
   "cell_type": "code",
   "execution_count": 70,
   "metadata": {
    "scrolled": true
   },
   "outputs": [
    {
     "data": {
      "text/plain": [
       "array([[0, 0, 0, 0],\n",
       "       [0, 0, 0, 0],\n",
       "       [0, 0, 0, 0],\n",
       "       [0, 0, 0, 0]])"
      ]
     },
     "execution_count": 70,
     "metadata": {},
     "output_type": "execute_result"
    }
   ],
   "source": [
    "A_exponentiated = np.linalg.matrix_power(A, 4)\n",
    "A_exponentiated"
   ]
  },
  {
   "cell_type": "markdown",
   "metadata": {},
   "source": [
    "### Exercício 1.1.13\n",
    "###### Vamos fazer um experimento para tentar ter uma ideia do quão comum é encontrar matrizes cujo produto comuta."
   ]
  },
  {
   "cell_type": "code",
   "execution_count": 89,
   "metadata": {},
   "outputs": [
    {
     "data": {
      "text/plain": [
       "21"
      ]
     },
     "execution_count": 89,
     "metadata": {},
     "output_type": "execute_result"
    }
   ],
   "source": [
    "# 1.1.13\n",
    "count = 0\n",
    "for i in range(1000):\n",
    "    A = np.random.randint(2, size = (3,3))\n",
    "    B = np.random.randint(2, size = (3,3))\n",
    "    if np.array_equal(np.dot(A,B), np.dot(B,A)):\n",
    "        count += 1\n",
    "count"
   ]
  },
  {
   "cell_type": "markdown",
   "metadata": {},
   "source": [
    "### Exercício 1.1.14\n",
    "###### Faça um experimento semelhante ao anterior, mas para o caso em que cada uma das matrizes é diagonal, isto é, os elementos que estão fora da diagonal são iguais a zero."
   ]
  },
  {
   "cell_type": "code",
   "execution_count": 102,
   "metadata": {},
   "outputs": [
    {
     "data": {
      "text/plain": [
       "1000"
      ]
     },
     "execution_count": 102,
     "metadata": {},
     "output_type": "execute_result"
    }
   ],
   "source": [
    "# 1.1.14\n",
    "count = 0\n",
    "for i in range(1000):\n",
    "    A = np.random.randint(10, size = (3,3))\n",
    "    B = np.random.randint(10, size = (3,3))\n",
    "    \n",
    "    A = np.diag(np.diag(A))\n",
    "    B = np.diag(np.diag(B))\n",
    "\n",
    "    if np.array_equal(np.dot(A,B), np.dot(B,A)):\n",
    "        count += 1\n",
    "count"
   ]
  },
  {
   "cell_type": "markdown",
   "metadata": {},
   "source": [
    "### Exercício 1.1.15\n",
    "###### Faça um experimento semelhante ao anterior, mas para o caso em que uma das matrizes é diagonal."
   ]
  },
  {
   "cell_type": "code",
   "execution_count": 106,
   "metadata": {},
   "outputs": [
    {
     "data": {
      "text/plain": [
       "11"
      ]
     },
     "execution_count": 106,
     "metadata": {},
     "output_type": "execute_result"
    }
   ],
   "source": [
    "# 1.1.15\n",
    "count = 0\n",
    "for i in range(1000):\n",
    "    A = np.random.randint(10, size = (3,3))\n",
    "    B = np.random.randint(10, size = (3,3))\n",
    "    \n",
    "    A = np.diag(np.diag(A))\n",
    "\n",
    "    if np.array_equal(np.dot(A,B), np.dot(B,A)):\n",
    "        count += 1\n",
    "count"
   ]
  },
  {
   "cell_type": "code",
   "execution_count": null,
   "metadata": {},
   "outputs": [],
   "source": []
  }
 ],
 "metadata": {
  "kernelspec": {
   "display_name": "Python 3",
   "language": "python",
   "name": "python3"
  },
  "language_info": {
   "codemirror_mode": {
    "name": "ipython",
    "version": 3
   },
   "file_extension": ".py",
   "mimetype": "text/x-python",
   "name": "python",
   "nbconvert_exporter": "python",
   "pygments_lexer": "ipython3",
   "version": "3.7.3"
  }
 },
 "nbformat": 4,
 "nbformat_minor": 2
}
